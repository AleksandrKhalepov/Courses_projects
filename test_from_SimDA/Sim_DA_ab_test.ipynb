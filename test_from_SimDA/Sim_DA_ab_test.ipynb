{
 "cells": [
  {
   "cell_type": "code",
   "execution_count": 1,
   "id": "9f600e8e-8523-4943-806d-eb5e0ea60c0a",
   "metadata": {},
   "outputs": [],
   "source": [
    "import pandas as pd\n",
    "import pandahouse as ph\n",
    "from scipy import stats\n",
    "import matplotlib.pyplot as plt\n",
    "import seaborn as sns"
   ]
  },
  {
   "cell_type": "code",
   "execution_count": null,
   "id": "00d29f20",
   "metadata": {},
   "outputs": [],
   "source": [
    "connection = {'host': '',\n",
    "'database':'',\n",
    "'user':'',\n",
    "'password':''\n",
    "}\n",
    "query = '''\n",
    "SELECT \n",
    "     user_id, exp_group,\n",
    "     sum(action='like') AS likes,\n",
    "     sum(action='view') AS views,\n",
    "     likes/views AS ctr\n",
    "from {db}.feed_actions\n",
    "where toDate(time) BETWEEN '2025-01-03' AND '2025-01-09' and exp_group in (2, 1)\n",
    "group by exp_group, user_id\n",
    "'''\n",
    "\n",
    "# эта функция выполнит запрос и запишет его результат в pandas DataFrame\n",
    "df = ph.read_clickhouse(query, connection=connection)"
   ]
  },
  {
   "cell_type": "markdown",
   "id": "4514af28-226d-498d-b0ad-31478911b53a",
   "metadata": {},
   "source": [
    "## A/B тест"
   ]
  },
  {
   "cell_type": "markdown",
   "id": "ceca1ac0-8281-4161-b08a-707215995d9d",
   "metadata": {},
   "source": [
    "Мы имеем две группы в нашем кейсе - group_1 и group_2, первая является контрольной, а вторая тестовой.\n",
    "Цель эксперимента - выяснить, есть ли эффект от смены системы рекомендаций новых постов с помощью статистического анализа."
   ]
  },
  {
   "cell_type": "markdown",
   "id": "16abb5d4-1c36-4d56-83d3-46c71661f451",
   "metadata": {},
   "source": [
    "Гипотезы:\n",
    "    H0 - изменения не привнесли стат значимых изменениий.\n",
    "    H1 - изменения приведут к увеличению CTR. "
   ]
  },
  {
   "cell_type": "code",
   "execution_count": 8,
   "id": "e72e9b91-8dfa-4a39-8bdf-f7383ee0b7a8",
   "metadata": {},
   "outputs": [],
   "source": [
    "control = df[df.exp_group == 1]\n",
    "test = df[df.exp_group == 2]"
   ]
  },
  {
   "cell_type": "code",
   "execution_count": 9,
   "id": "b17929ad-031a-46cc-aa4a-eb737c2cf1eb",
   "metadata": {},
   "outputs": [
    {
     "name": "stdout",
     "output_type": "stream",
     "text": [
      "Кол-во пользователей в Контрольной группе: 10020\n",
      "Кол-во пользователей в Тестовой группе: 9877\n"
     ]
    }
   ],
   "source": [
    "print(f'Кол-во пользователей в Контрольной группе: {control.user_id.count()}')\n",
    "print(f'Кол-во пользователей в Тестовой группе: {test.user_id.count()}')"
   ]
  },
  {
   "cell_type": "markdown",
   "id": "22b7d52a-2218-4a83-8219-685a3c2fd50c",
   "metadata": {},
   "source": [
    "В группах примерно одинаковое кол-во пользоватей, это хорошо."
   ]
  },
  {
   "cell_type": "markdown",
   "id": "2bf068c1-3f49-4fa6-bb8d-0089e5c8c6d1",
   "metadata": {},
   "source": [
    "Рассмотрим распределение CTR"
   ]
  },
  {
   "cell_type": "code",
   "execution_count": 10,
   "id": "cac6a013-d60b-4a76-a265-c63941ca2d0e",
   "metadata": {},
   "outputs": [
    {
     "data": {
      "text/plain": [
       "<seaborn.axisgrid.FacetGrid at 0x7fcc66bb81c0>"
      ]
     },
     "execution_count": 10,
     "metadata": {},
     "output_type": "execute_result"
    },
    {
     "data": {
      "image/png": "[encoded data removed]",
      "text/plain": [
       "<Figure size 420x360 with 1 Axes>"
      ]
     },
     "metadata": {
      "needs_background": "light"
     },
     "output_type": "display_data"
    }
   ],
   "source": [
    "sns.displot(data=df, x='ctr', hue='exp_group', kind=\"kde\")"
   ]
  },
  {
   "cell_type": "markdown",
   "id": "403791f9-5899-4fcd-af31-939879f7abf4",
   "metadata": {},
   "source": [
    "## T-test"
   ]
  },
  {
   "cell_type": "markdown",
   "id": "dcc24cb9-bf6d-46d2-8ea0-284f4d58dc28",
   "metadata": {},
   "source": [
    "Распределение контрольной группы похоже на нормальное, но тестовая группа не унимодальна. Но так как выбросы не слишком хаотичны и наши CTR пересекаются, и самое главное выборки примерно одинаковы и их много, попробуем воспользоваться тестом Стьюдента беря во внимание увеличение шанса ошибки первого рода."
   ]
  },
  {
   "cell_type": "code",
   "execution_count": 11,
   "id": "89a84aa0-1a11-43fa-8d83-9a70ed456123",
   "metadata": {},
   "outputs": [
    {
     "data": {
      "text/plain": [
       "Ttest_indResult(statistic=0.4051491913112757, pvalue=0.685373331140751)"
      ]
     },
     "execution_count": 11,
     "metadata": {},
     "output_type": "execute_result"
    }
   ],
   "source": [
    "stats.ttest_ind(control.ctr, test.ctr, equal_var=False)"
   ]
  },
  {
   "cell_type": "markdown",
   "id": "30a737fa-afe6-4ae0-ad65-cc8e5fd32d99",
   "metadata": {},
   "source": [
    "Т-тест уверенно показал, что стат значимости нет."
   ]
  },
  {
   "cell_type": "markdown",
   "id": "f96ec0b4-4edb-4584-8999-4015a1011201",
   "metadata": {},
   "source": [
    "## U-критерий"
   ]
  },
  {
   "cell_type": "markdown",
   "id": "5eab0e49-d165-49a9-95a6-e29420c8b2b2",
   "metadata": {},
   "source": [
    "Так как мы работает с большой выборкой и наша метрика - CTR, а не условные единица и ноль, то мы вполне можем воспользоваться U-критерием."
   ]
  },
  {
   "cell_type": "code",
   "execution_count": 13,
   "id": "186c7362-5e41-45a8-a0bb-d3e5cb9b3ade",
   "metadata": {},
   "outputs": [
    {
     "name": "stdout",
     "output_type": "stream",
     "text": [
      "MannwhitneyuResult(statistic=55189913.0, pvalue=4.632205841806026e-45)\n",
      "В 56.49 % случаев A > B. Должно получиться около 50%\n"
     ]
    }
   ],
   "source": [
    "print(stats.mannwhitneyu(control.ctr, test.ctr))\n",
    "\n",
    "A_gt_B = 0\n",
    "for _ in range(10000):\n",
    "    A_gt_B+= control.ctr.sample().values[0] > test.ctr.sample().values[0]\n",
    "    \n",
    "print('В', A_gt_B/100, '% случаев A > B. Должно получиться около 50%')"
   ]
  },
  {
   "cell_type": "markdown",
   "id": "1fc2f54f-f462-44bf-97fb-21500703d76f",
   "metadata": {},
   "source": [
    "Критерий показывает стат значимое отличие."
   ]
  },
  {
   "cell_type": "markdown",
   "id": "d595d8b5-9fdc-40d6-8fb6-41cdd289c1a9",
   "metadata": {},
   "source": [
    "У нас что-то не сходится. Скорее всего выбросы в тестовой группы повлияли на результат т-теста. В таком случае, выполним сглаживание CTR и проведём т-тест ещё раз."
   ]
  },
  {
   "cell_type": "code",
   "execution_count": 24,
   "id": "144f1f9b-8617-46c9-a150-3614c855b680",
   "metadata": {},
   "outputs": [],
   "source": [
    "def get_smothed_ctr(user_likes, user_views, global_ctr, alpha):\n",
    "    smothed_ctr = (user_likes + alpha * global_ctr) / (user_views + alpha)\n",
    "    return smothed_ctr\n",
    "\n",
    "q = \"\"\"\n",
    "SELECT exp_group, \n",
    "    user_id,\n",
    "    sum(action = 'like') as likes,\n",
    "    sum(action = 'view') as views,\n",
    "    likes/views as ctr\n",
    "FROM {db}.feed_actions \n",
    "where toDate(time) BETWEEN '2025-01-03' AND '2025-01-09' and exp_group in (2, 1)\n",
    "GROUP BY exp_group, user_id\n",
    "\"\"\"\n",
    "\n",
    "smooth_df = ph.read_clickhouse(q, connection=connection)\n",
    "\n",
    "global_ctr_1 = df[df.exp_group == 1].likes.sum()/df[df.exp_group == 1].views.sum()\n",
    "global_ctr_2 = df[df.exp_group == 2].likes.sum()/df[df.exp_group == 2].views.sum()\n",
    "group1 = df[df.exp_group == 1].copy()\n",
    "group2 = df[df.exp_group == 2].copy()"
   ]
  },
  {
   "cell_type": "code",
   "execution_count": 30,
   "id": "b87f73fc-e879-4303-b672-2fcce5a51157",
   "metadata": {},
   "outputs": [],
   "source": [
    "group1['smothed_ctr'] = df.apply(\n",
    "    lambda x: get_smothed_ctr(x['likes'], x['views'], global_ctr_1, 5), axis=1)"
   ]
  },
  {
   "cell_type": "code",
   "execution_count": 31,
   "id": "43e4363b-26af-4ee7-8a1c-170df12fe384",
   "metadata": {},
   "outputs": [],
   "source": [
    "group2['smothed_ctr'] = df.apply(\n",
    "    lambda x: get_smothed_ctr(x['likes'], x['views'], global_ctr_2, 5), axis=1)"
   ]
  },
  {
   "cell_type": "code",
   "execution_count": 29,
   "id": "3c74b9f2-2fff-47fd-a3b9-862ab581e42a",
   "metadata": {},
   "outputs": [
    {
     "data": {
      "text/plain": [
       "Ttest_indResult(statistic=1.9460491517027683, pvalue=0.05166679015318526)"
      ]
     },
     "execution_count": 29,
     "metadata": {},
     "output_type": "execute_result"
    }
   ],
   "source": [
    "stats.ttest_ind(group1.smothed_ctr, group2.smothed_ctr, equal_var=False)"
   ]
  },
  {
   "cell_type": "markdown",
   "id": "c730eb51-2c24-4f20-8ed0-66e7ad2dd281",
   "metadata": {},
   "source": [
    "Т-тест со сглаженным CTR уже едва показывает отстутствие стат значимого различия."
   ]
  },
  {
   "cell_type": "markdown",
   "id": "5e5f8689-06a9-446a-9d09-ebeb8c9c8e6f",
   "metadata": {},
   "source": [
    "Что будем делать? Учитывая, что у нас явно виднеется бимодальное распределение у одной из групп, воспринимать результат обычного т-теста как значимый нельзя. Непараметрический критерий как раз хорошо справляется с такими данными, но он не показывается очень уверенной значимости, тем более, что т-тест со сглаженным ctr имеет p-value около 0.05, поэтому мы не можем подтвердить H1. Риск ошибки слишком высок."
   ]
  },
  {
   "cell_type": "markdown",
   "id": "c8b37b56-d3e0-4e5b-8461-d1d82ae67301",
   "metadata": {},
   "source": [
    "## Вывод"
   ]
  },
  {
   "cell_type": "markdown",
   "id": "8cad7abb-8c0f-41e9-8c96-ba81f27e4fef",
   "metadata": {},
   "source": [
    "Вероятно, сплитование было произведенно неправильно, поэтому a/b тест нужно проводить еще раз, уже с новой сегментацией."
   ]
  }
 ],
 "metadata": {
  "kernelspec": {
   "display_name": "Python 3 (ipykernel)",
   "language": "python",
   "name": "python3"
  },
  "language_info": {
   "codemirror_mode": {
    "name": "ipython",
    "version": 3
   },
   "file_extension": ".py",
   "mimetype": "text/x-python",
   "name": "python",
   "nbconvert_exporter": "python",
   "pygments_lexer": "ipython3",
   "version": "3.11.9"
  },
  "toc-autonumbering": false,
  "toc-showcode": false,
  "toc-showmarkdowntxt": false,
  "toc-showtags": false
 },
 "nbformat": 4,
 "nbformat_minor": 5
}
